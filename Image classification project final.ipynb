{
 "cells": [
  {
   "cell_type": "markdown",
   "id": "142410b7",
   "metadata": {},
   "source": [
    "## Importing the necessary Packages"
   ]
  },
  {
   "cell_type": "code",
   "execution_count": 36,
   "id": "b4bf7b47",
   "metadata": {},
   "outputs": [],
   "source": [
    "import numpy as np\n",
    "import matplotlib.pyplot as plt\n",
    "import tensorflow as tf\n",
    "from tensorflow import keras\n",
    "from keras.models import Sequential\n",
    "from keras import datasets\n",
    "from keras import layers\n",
    "from tensorflow.keras import models\n",
    "from keras.utils import to_categorical\n",
    "import os\n",
    "%matplotlib inline"
   ]
  },
  {
   "cell_type": "markdown",
   "id": "b0d5dfe8",
   "metadata": {},
   "source": [
    "## Load Image Data"
   ]
  },
  {
   "cell_type": "code",
   "execution_count": 37,
   "id": "e3cecb55",
   "metadata": {},
   "outputs": [],
   "source": [
    "(X_train,y_train,),(X_test,y_test)=datasets.cifar10.load_data()"
   ]
  },
  {
   "cell_type": "code",
   "execution_count": 38,
   "id": "65ed3ed7",
   "metadata": {},
   "outputs": [
    {
     "name": "stdout",
     "output_type": "stream",
     "text": [
      "(50000, 32, 32, 3)\n",
      "(50000, 1)\n",
      "(10000, 32, 32, 3)\n",
      "(10000, 1)\n"
     ]
    }
   ],
   "source": [
    "print(X_train.shape)\n",
    "print(y_train.shape)\n",
    "print(X_test.shape)\n",
    "print(y_test.shape)"
   ]
  },
  {
   "cell_type": "markdown",
   "id": "a9fe70cc",
   "metadata": {},
   "source": [
    "## Images Data Exploration and Visualization"
   ]
  },
  {
   "cell_type": "code",
   "execution_count": 39,
   "id": "abfce767",
   "metadata": {},
   "outputs": [
    {
     "data": {
      "text/plain": [
       "(32, 32, 3)"
      ]
     },
     "execution_count": 39,
     "metadata": {},
     "output_type": "execute_result"
    }
   ],
   "source": [
    "X_train[0].shape"
   ]
  },
  {
   "cell_type": "code",
   "execution_count": 40,
   "id": "ab51f197",
   "metadata": {},
   "outputs": [
    {
     "data": {
      "text/plain": [
       "<matplotlib.image.AxesImage at 0x180b5630370>"
      ]
     },
     "execution_count": 40,
     "metadata": {},
     "output_type": "execute_result"
    },
    {
     "data": {
      "image/png": "[encoded data removed]",
      "text/plain": [
       "<Figure size 432x288 with 1 Axes>"
      ]
     },
     "metadata": {
      "needs_background": "light"
     },
     "output_type": "display_data"
    }
   ],
   "source": [
    "plt.imshow(X_train[6])"
   ]
  },
  {
   "cell_type": "code",
   "execution_count": 10,
   "id": "dce6761b",
   "metadata": {},
   "outputs": [
    {
     "data": {
      "text/plain": [
       "array([[[164, 206,  84],\n",
       "        [105, 140,  61],\n",
       "        [118, 148, 101],\n",
       "        ...,\n",
       "        [109, 147,  73],\n",
       "        [108, 147,  69],\n",
       "        [ 91, 129,  57]],\n",
       "\n",
       "       [[167, 213,  84],\n",
       "        [116, 160,  49],\n",
       "        [ 72, 109,  43],\n",
       "        ...,\n",
       "        [105, 142,  79],\n",
       "        [105, 142,  72],\n",
       "        [ 89, 127,  57]],\n",
       "\n",
       "       [[140, 191,  65],\n",
       "        [142, 193,  66],\n",
       "        [119, 163,  79],\n",
       "        ...,\n",
       "        [104, 139,  84],\n",
       "        [ 84, 120,  58],\n",
       "        [ 78, 115,  49]],\n",
       "\n",
       "       ...,\n",
       "\n",
       "       [[139, 148,  81],\n",
       "        [142, 155,  74],\n",
       "        [135, 156,  72],\n",
       "        ...,\n",
       "        [ 89, 134,  28],\n",
       "        [ 97, 148,  24],\n",
       "        [126, 176,  49]],\n",
       "\n",
       "       [[163, 157,  85],\n",
       "        [153, 164,  82],\n",
       "        [146, 164,  90],\n",
       "        ...,\n",
       "        [ 85, 130,  19],\n",
       "        [ 98, 148,  27],\n",
       "        [127, 178,  48]],\n",
       "\n",
       "       [[183, 153, 102],\n",
       "        [176, 182, 116],\n",
       "        [154, 154, 100],\n",
       "        ...,\n",
       "        [ 94, 134,  29],\n",
       "        [ 91, 133,  26],\n",
       "        [122, 170,  44]]], dtype=uint8)"
      ]
     },
     "execution_count": 10,
     "metadata": {},
     "output_type": "execute_result"
    }
   ],
   "source": [
    "X_train[6]"
   ]
  },
  {
   "cell_type": "code",
   "execution_count": 41,
   "id": "2cfa6708",
   "metadata": {},
   "outputs": [
    {
     "data": {
      "text/plain": [
       "<matplotlib.image.AxesImage at 0x180b56784c0>"
      ]
     },
     "execution_count": 41,
     "metadata": {},
     "output_type": "execute_result"
    },
    {
     "data": {
      "image/png": "[encoded data removed]",
      "text/plain": [
       "<Figure size 432x288 with 1 Axes>"
      ]
     },
     "metadata": {
      "needs_background": "light"
     },
     "output_type": "display_data"
    }
   ],
   "source": [
    "plt.imshow(X_train[4])"
   ]
  },
  {
   "cell_type": "code",
   "execution_count": 42,
   "id": "e11c3d9d",
   "metadata": {},
   "outputs": [
    {
     "data": {
      "text/plain": [
       "array([1], dtype=uint8)"
      ]
     },
     "execution_count": 42,
     "metadata": {},
     "output_type": "execute_result"
    }
   ],
   "source": [
    "y_train[4]"
   ]
  },
  {
   "cell_type": "markdown",
   "id": "f61bb649",
   "metadata": {},
   "source": [
    "## Image Data Preprocessing and Visualization"
   ]
  },
  {
   "cell_type": "code",
   "execution_count": 43,
   "id": "248bd893",
   "metadata": {},
   "outputs": [
    {
     "data": {
      "text/plain": [
       "array([6, 9, 9, 4], dtype=uint8)"
      ]
     },
     "execution_count": 43,
     "metadata": {},
     "output_type": "execute_result"
    }
   ],
   "source": [
    "y_train=y_train.reshape(-1,)\n",
    "y_train[:4]"
   ]
  },
  {
   "cell_type": "code",
   "execution_count": 44,
   "id": "a123efd6",
   "metadata": {},
   "outputs": [],
   "source": [
    "classes=[\"airplan\",\"automobile\",\"bird\",\"cat\",\"deer\",\"dog\",\"frog\",\"horse\",\"ship\",\"truck\"]"
   ]
  },
  {
   "cell_type": "code",
   "execution_count": 45,
   "id": "22b56dd3",
   "metadata": {},
   "outputs": [],
   "source": [
    "def plot_sample(x,y,index):\n",
    "    plt.imshow(x[index])\n",
    "    plt.xlabel(classes[y[index]])"
   ]
  },
  {
   "cell_type": "code",
   "execution_count": 46,
   "id": "75f34595",
   "metadata": {},
   "outputs": [
    {
     "data": {
      "image/png": "[encoded data removed]",
      "text/plain": [
       "<Figure size 432x288 with 1 Axes>"
      ]
     },
     "metadata": {
      "needs_background": "light"
     },
     "output_type": "display_data"
    }
   ],
   "source": [
    "plot_sample(X_train,y_train,4)"
   ]
  },
  {
   "cell_type": "code",
   "execution_count": 47,
   "id": "c4fc2c81",
   "metadata": {},
   "outputs": [
    {
     "data": {
      "image/png": "[encoded data removed]",
      "text/plain": [
       "<Figure size 432x288 with 1 Axes>"
      ]
     },
     "metadata": {
      "needs_background": "light"
     },
     "output_type": "display_data"
    }
   ],
   "source": [
    "plot_sample(X_train,y_train,6)"
   ]
  },
  {
   "cell_type": "markdown",
   "id": "7189665e",
   "metadata": {},
   "source": [
    "## Normalization of the image date"
   ]
  },
  {
   "cell_type": "code",
   "execution_count": 48,
   "id": "ba784dfc",
   "metadata": {},
   "outputs": [
    {
     "name": "stdout",
     "output_type": "stream",
     "text": [
      "[[[0.23137255 0.24313726 0.24705882]\n",
      "  [0.16862746 0.18039216 0.1764706 ]\n",
      "  [0.19607843 0.1882353  0.16862746]\n",
      "  ...\n",
      "  [0.61960787 0.5176471  0.42352942]\n",
      "  [0.59607846 0.49019608 0.4       ]\n",
      "  [0.5803922  0.4862745  0.40392157]]\n",
      "\n",
      " [[0.0627451  0.07843138 0.07843138]\n",
      "  [0.         0.         0.        ]\n",
      "  [0.07058824 0.03137255 0.        ]\n",
      "  ...\n",
      "  [0.48235294 0.34509805 0.21568628]\n",
      "  [0.46666667 0.3254902  0.19607843]\n",
      "  [0.47843137 0.34117648 0.22352941]]\n",
      "\n",
      " [[0.09803922 0.09411765 0.08235294]\n",
      "  [0.0627451  0.02745098 0.        ]\n",
      "  [0.19215687 0.10588235 0.03137255]\n",
      "  ...\n",
      "  [0.4627451  0.32941177 0.19607843]\n",
      "  [0.47058824 0.32941177 0.19607843]\n",
      "  [0.42745098 0.28627452 0.16470589]]\n",
      "\n",
      " ...\n",
      "\n",
      " [[0.8156863  0.6666667  0.3764706 ]\n",
      "  [0.7882353  0.6        0.13333334]\n",
      "  [0.7764706  0.6313726  0.10196079]\n",
      "  ...\n",
      "  [0.627451   0.52156866 0.27450982]\n",
      "  [0.21960784 0.12156863 0.02745098]\n",
      "  [0.20784314 0.13333334 0.07843138]]\n",
      "\n",
      " [[0.7058824  0.54509807 0.3764706 ]\n",
      "  [0.6784314  0.48235294 0.16470589]\n",
      "  [0.7294118  0.5647059  0.11764706]\n",
      "  ...\n",
      "  [0.72156864 0.5803922  0.36862746]\n",
      "  [0.38039216 0.24313726 0.13333334]\n",
      "  [0.3254902  0.20784314 0.13333334]]\n",
      "\n",
      " [[0.69411767 0.5647059  0.45490196]\n",
      "  [0.65882355 0.5058824  0.36862746]\n",
      "  [0.7019608  0.5568628  0.34117648]\n",
      "  ...\n",
      "  [0.84705883 0.72156864 0.54901963]\n",
      "  [0.5921569  0.4627451  0.32941177]\n",
      "  [0.48235294 0.36078432 0.28235295]]]\n"
     ]
    }
   ],
   "source": [
    "X_train=X_train.astype('float32')\n",
    "X_train=X_train.astype('float32')\n",
    "X_train=X_train/255.0\n",
    "X_test=X_test/255.0\n",
    "print(X_train[0])"
   ]
  },
  {
   "cell_type": "markdown",
   "id": "91b1db27",
   "metadata": {},
   "source": [
    "## Build first Model using Artifical Neural Netwok"
   ]
  },
  {
   "cell_type": "code",
   "execution_count": 49,
   "id": "e1f691cf",
   "metadata": {},
   "outputs": [],
   "source": [
    "model_ann= tf.keras.models.Sequential()"
   ]
  },
  {
   "cell_type": "code",
   "execution_count": 50,
   "id": "9426b422",
   "metadata": {},
   "outputs": [],
   "source": [
    "model_ann.add(tf.keras.layers.Flatten(input_shape=(32, 32,3)))"
   ]
  },
  {
   "cell_type": "code",
   "execution_count": 51,
   "id": "b91d8f09",
   "metadata": {},
   "outputs": [],
   "source": [
    "model_ann.add(tf.keras.layers.Dense(3000, activation='relu'))"
   ]
  },
  {
   "cell_type": "code",
   "execution_count": 52,
   "id": "59b1a0dd",
   "metadata": {},
   "outputs": [],
   "source": [
    "model_ann.add(tf.keras.layers.Dense(1000, activation='relu'))"
   ]
  },
  {
   "cell_type": "code",
   "execution_count": 53,
   "id": "f0aa00da",
   "metadata": {},
   "outputs": [],
   "source": [
    "model_ann.add(tf.keras.layers.Dense(10, activation='softmax'))"
   ]
  },
  {
   "cell_type": "markdown",
   "id": "3f77fc4a",
   "metadata": {},
   "source": [
    "## Compile the Model"
   ]
  },
  {
   "cell_type": "code",
   "execution_count": 54,
   "id": "123c59c9",
   "metadata": {},
   "outputs": [],
   "source": [
    "model_ann.compile(optimizer='adam', loss='sparse_categorical_crossentropy', metrics=['accuracy'])"
   ]
  },
  {
   "cell_type": "code",
   "execution_count": 55,
   "id": "4c3e5f87",
   "metadata": {},
   "outputs": [
    {
     "name": "stdout",
     "output_type": "stream",
     "text": [
      "Model: \"sequential_2\"\n",
      "_________________________________________________________________\n",
      " Layer (type)                Output Shape              Param #   \n",
      "=================================================================\n",
      " flatten_3 (Flatten)         (None, 3072)              0         \n",
      "                                                                 \n",
      " dense_7 (Dense)             (None, 3000)              9219000   \n",
      "                                                                 \n",
      " dense_8 (Dense)             (None, 1000)              3001000   \n",
      "                                                                 \n",
      " dense_9 (Dense)             (None, 10)                10010     \n",
      "                                                                 \n",
      "=================================================================\n",
      "Total params: 12,230,010\n",
      "Trainable params: 12,230,010\n",
      "Non-trainable params: 0\n",
      "_________________________________________________________________\n"
     ]
    }
   ],
   "source": [
    "model_ann.summary()"
   ]
  },
  {
   "cell_type": "markdown",
   "id": "597762aa",
   "metadata": {},
   "source": [
    "## Training the model"
   ]
  },
  {
   "cell_type": "code",
   "execution_count": 59,
   "id": "59c0661e",
   "metadata": {},
   "outputs": [
    {
     "name": "stdout",
     "output_type": "stream",
     "text": [
      "Epoch 1/5\n",
      "1563/1563 [==============================] - 216s 138ms/step - loss: 1.4534 - accuracy: 0.4784 - val_loss: 1.5235 - val_accuracy: 0.4564\n",
      "Epoch 2/5\n",
      "1563/1563 [==============================] - 220s 140ms/step - loss: 1.4210 - accuracy: 0.4916 - val_loss: 1.4718 - val_accuracy: 0.4673\n",
      "Epoch 3/5\n",
      "1563/1563 [==============================] - 215s 137ms/step - loss: 1.3942 - accuracy: 0.5010 - val_loss: 1.4683 - val_accuracy: 0.4809\n",
      "Epoch 4/5\n",
      "1563/1563 [==============================] - 213s 136ms/step - loss: 1.3793 - accuracy: 0.5065 - val_loss: 1.4605 - val_accuracy: 0.4763\n",
      "Epoch 5/5\n",
      "1563/1563 [==============================] - 215s 137ms/step - loss: 1.3586 - accuracy: 0.5147 - val_loss: 1.5008 - val_accuracy: 0.4686\n"
     ]
    }
   ],
   "source": [
    "ann=model_ann.fit(X_train, y_train, epochs=5,validation_data=(X_test,y_test))"
   ]
  },
  {
   "cell_type": "markdown",
   "id": "e90a0dbb",
   "metadata": {},
   "source": [
    "## Accuracy of the training and validationa data"
   ]
  },
  {
   "cell_type": "code",
   "execution_count": 60,
   "id": "8fd0fea1",
   "metadata": {},
   "outputs": [
    {
     "data": {
      "text/plain": [
       "[<matplotlib.lines.Line2D at 0x180b96a8550>]"
      ]
     },
     "execution_count": 60,
     "metadata": {},
     "output_type": "execute_result"
    },
    {
     "data": {
      "image/png": "[encoded data removed]",
      "text/plain": [
       "<Figure size 432x288 with 1 Axes>"
      ]
     },
     "metadata": {
      "needs_background": "light"
     },
     "output_type": "display_data"
    }
   ],
   "source": [
    "plt.plot(ann.history['accuracy'])\n",
    "plt.plot(ann.history['val_accuracy'])"
   ]
  },
  {
   "cell_type": "markdown",
   "id": "6621c941",
   "metadata": {},
   "source": [
    "## Evaluating the model"
   ]
  },
  {
   "cell_type": "code",
   "execution_count": 63,
   "id": "a2ed3fbc",
   "metadata": {},
   "outputs": [
    {
     "name": "stdout",
     "output_type": "stream",
     "text": [
      "313/313 [==============================] - 5s 14ms/step - loss: 1.5008 - accuracy: 0.4686\n"
     ]
    }
   ],
   "source": [
    "evaluation=model_ann.evaluate(X_test,y_test)"
   ]
  },
  {
   "cell_type": "code",
   "execution_count": 64,
   "id": "2c6635dd",
   "metadata": {},
   "outputs": [
    {
     "data": {
      "text/plain": [
       "[1.5007822513580322, 0.46860000491142273]"
      ]
     },
     "execution_count": 64,
     "metadata": {},
     "output_type": "execute_result"
    }
   ],
   "source": [
    "evaluation"
   ]
  },
  {
   "cell_type": "code",
   "execution_count": 65,
   "id": "5116b667",
   "metadata": {},
   "outputs": [
    {
     "name": "stdout",
     "output_type": "stream",
     "text": [
      "313/313 [==============================] - 5s 15ms/step\n",
      "Classification Report: \n",
      "               precision    recall  f1-score   support\n",
      "\n",
      "           0       0.54      0.50      0.52      1000\n",
      "           1       0.46      0.74      0.57      1000\n",
      "           2       0.41      0.26      0.32      1000\n",
      "           3       0.31      0.45      0.36      1000\n",
      "           4       0.48      0.31      0.38      1000\n",
      "           5       0.43      0.29      0.35      1000\n",
      "           6       0.53      0.51      0.52      1000\n",
      "           7       0.50      0.57      0.53      1000\n",
      "           8       0.58      0.63      0.61      1000\n",
      "           9       0.49      0.42      0.45      1000\n",
      "\n",
      "    accuracy                           0.47     10000\n",
      "   macro avg       0.47      0.47      0.46     10000\n",
      "weighted avg       0.47      0.47      0.46     10000\n",
      "\n"
     ]
    }
   ],
   "source": [
    "from sklearn.metrics import confusion_matrix,classification_report\n",
    "import numpy as np\n",
    "y_pred=model_ann.predict(X_test)\n",
    "y_pred_classes=[np.argmax(element) for element in y_pred]\n",
    "print(\"Classification Report: \\n\",classification_report(y_test,y_pred_classes))"
   ]
  },
  {
   "cell_type": "markdown",
   "id": "fa5c794e",
   "metadata": {},
   "source": [
    "## Second Model training using Convolutional Neural Network"
   ]
  },
  {
   "cell_type": "code",
   "execution_count": 67,
   "id": "49a41b6d",
   "metadata": {},
   "outputs": [],
   "source": [
    "CNN= tf.keras.models.Sequential([\n",
    "#CNN\n",
    "     layers.Conv2D(filters=32,kernel_size=(3,3),activation='relu',input_shape=(32,32,3)),\n",
    "     layers.MaxPooling2D(2,2),\n",
    "     layers.Conv2D(filters=64,kernel_size=(3,3),activation='relu'),\n",
    "     layers.MaxPooling2D(2,2),\n",
    "#Dense\n",
    "     layers.Flatten(),\n",
    "     layers.Dense(64, activation='relu'),\n",
    "     layers.Dense(10, activation='softmax')\n",
    "])"
   ]
  },
  {
   "cell_type": "markdown",
   "id": "72f5df82",
   "metadata": {},
   "source": [
    "## Compile the Model"
   ]
  },
  {
   "cell_type": "code",
   "execution_count": 68,
   "id": "e59555e2",
   "metadata": {},
   "outputs": [],
   "source": [
    "CNN.compile(optimizer='adam',loss='sparse_categorical_crossentropy',metrics=['accuracy'])"
   ]
  },
  {
   "cell_type": "code",
   "execution_count": 69,
   "id": "4be39143",
   "metadata": {},
   "outputs": [
    {
     "name": "stdout",
     "output_type": "stream",
     "text": [
      "Model: \"sequential_3\"\n",
      "_________________________________________________________________\n",
      " Layer (type)                Output Shape              Param #   \n",
      "=================================================================\n",
      " conv2d (Conv2D)             (None, 30, 30, 32)        896       \n",
      "                                                                 \n",
      " max_pooling2d (MaxPooling2D  (None, 15, 15, 32)       0         \n",
      " )                                                               \n",
      "                                                                 \n",
      " conv2d_1 (Conv2D)           (None, 13, 13, 64)        18496     \n",
      "                                                                 \n",
      " max_pooling2d_1 (MaxPooling  (None, 6, 6, 64)         0         \n",
      " 2D)                                                             \n",
      "                                                                 \n",
      " flatten_4 (Flatten)         (None, 2304)              0         \n",
      "                                                                 \n",
      " dense_10 (Dense)            (None, 64)                147520    \n",
      "                                                                 \n",
      " dense_11 (Dense)            (None, 10)                650       \n",
      "                                                                 \n",
      "=================================================================\n",
      "Total params: 167,562\n",
      "Trainable params: 167,562\n",
      "Non-trainable params: 0\n",
      "_________________________________________________________________\n"
     ]
    }
   ],
   "source": [
    "CNN.summary()"
   ]
  },
  {
   "cell_type": "markdown",
   "id": "f89c256e",
   "metadata": {},
   "source": [
    "## Training the model"
   ]
  },
  {
   "cell_type": "code",
   "execution_count": 70,
   "id": "76227b31",
   "metadata": {},
   "outputs": [
    {
     "name": "stdout",
     "output_type": "stream",
     "text": [
      "Epoch 1/5\n",
      "1563/1563 [==============================] - 47s 28ms/step - loss: 1.4929 - accuracy: 0.4615 - val_loss: 1.2390 - val_accuracy: 0.5692\n",
      "Epoch 2/5\n",
      "1563/1563 [==============================] - 42s 27ms/step - loss: 1.1335 - accuracy: 0.6006 - val_loss: 1.1051 - val_accuracy: 0.6120\n",
      "Epoch 3/5\n",
      "1563/1563 [==============================] - 43s 27ms/step - loss: 1.0057 - accuracy: 0.6494 - val_loss: 1.0367 - val_accuracy: 0.6456\n",
      "Epoch 4/5\n",
      "1563/1563 [==============================] - 41s 26ms/step - loss: 0.9211 - accuracy: 0.6793 - val_loss: 0.9334 - val_accuracy: 0.6797\n",
      "Epoch 5/5\n",
      "1563/1563 [==============================] - 43s 28ms/step - loss: 0.8595 - accuracy: 0.6993 - val_loss: 0.9275 - val_accuracy: 0.6814\n"
     ]
    }
   ],
   "source": [
    "cnn=CNN.fit(X_train, y_train, epochs=5,validation_data=(X_test,y_test))"
   ]
  },
  {
   "cell_type": "markdown",
   "id": "18247b84",
   "metadata": {},
   "source": [
    "## Accuracy of the training and validationa data"
   ]
  },
  {
   "cell_type": "code",
   "execution_count": 72,
   "id": "430b2b1e",
   "metadata": {},
   "outputs": [
    {
     "data": {
      "text/plain": [
       "[<matplotlib.lines.Line2D at 0x1808886b5b0>]"
      ]
     },
     "execution_count": 72,
     "metadata": {},
     "output_type": "execute_result"
    },
    {
     "data": {
      "image/png": "[encoded data removed]",
      "text/plain": [
       "<Figure size 432x288 with 1 Axes>"
      ]
     },
     "metadata": {
      "needs_background": "light"
     },
     "output_type": "display_data"
    }
   ],
   "source": [
    "plt.plot(cnn.history['accuracy'])\n",
    "plt.plot(cnn.history['val_accuracy'])"
   ]
  },
  {
   "cell_type": "markdown",
   "id": "dcd3d8a7",
   "metadata": {},
   "source": [
    "## Evaluating the model"
   ]
  },
  {
   "cell_type": "code",
   "execution_count": 73,
   "id": "bf4e6c82",
   "metadata": {},
   "outputs": [
    {
     "name": "stdout",
     "output_type": "stream",
     "text": [
      "313/313 [==============================] - 4s 13ms/step - loss: 0.9275 - accuracy: 0.6814\n"
     ]
    }
   ],
   "source": [
    "evaluation=CNN.evaluate(X_test,y_test)"
   ]
  },
  {
   "cell_type": "code",
   "execution_count": 75,
   "id": "95556d02",
   "metadata": {},
   "outputs": [
    {
     "data": {
      "text/plain": [
       "[0.9275484085083008, 0.6814000010490417]"
      ]
     },
     "execution_count": 75,
     "metadata": {},
     "output_type": "execute_result"
    }
   ],
   "source": [
    "evaluation"
   ]
  },
  {
   "cell_type": "code",
   "execution_count": 76,
   "id": "3a614709",
   "metadata": {},
   "outputs": [
    {
     "name": "stdout",
     "output_type": "stream",
     "text": [
      "313/313 [==============================] - 3s 10ms/step\n",
      "Classification Report: \n",
      "               precision    recall  f1-score   support\n",
      "\n",
      "           0       0.76      0.68      0.72      1000\n",
      "           1       0.86      0.76      0.81      1000\n",
      "           2       0.61      0.49      0.55      1000\n",
      "           3       0.50      0.44      0.47      1000\n",
      "           4       0.58      0.67      0.62      1000\n",
      "           5       0.55      0.66      0.60      1000\n",
      "           6       0.79      0.74      0.76      1000\n",
      "           7       0.70      0.78      0.74      1000\n",
      "           8       0.69      0.85      0.77      1000\n",
      "           9       0.82      0.74      0.78      1000\n",
      "\n",
      "    accuracy                           0.68     10000\n",
      "   macro avg       0.69      0.68      0.68     10000\n",
      "weighted avg       0.69      0.68      0.68     10000\n",
      "\n"
     ]
    }
   ],
   "source": [
    "from sklearn.metrics import confusion_matrix,classification_report\n",
    "import numpy as np\n",
    "y_pred=CNN.predict(X_test)\n",
    "y_pred_classes=[np.argmax(element) for element in y_pred]\n",
    "print(\"Classification Report: \\n\",classification_report(y_test,y_pred_classes))"
   ]
  }
 ],
 "metadata": {
  "kernelspec": {
   "display_name": "Python 3 (ipykernel)",
   "language": "python",
   "name": "python3"
  },
  "language_info": {
   "codemirror_mode": {
    "name": "ipython",
    "version": 3
   },
   "file_extension": ".py",
   "mimetype": "text/x-python",
   "name": "python",
   "nbconvert_exporter": "python",
   "pygments_lexer": "ipython3",
   "version": "3.9.12"
  }
 },
 "nbformat": 4,
 "nbformat_minor": 5
}
